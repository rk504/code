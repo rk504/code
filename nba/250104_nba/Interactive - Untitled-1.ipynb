{
 "cells": [
  {
   "cell_type": "markdown",
   "metadata": {},
   "source": [
    "Connected to Python 3.9.6"
   ]
  },
  {
   "cell_type": "code",
   "execution_count": null,
   "id": "620c50bd-0a92-4d88-88a2-d3ce95651796",
   "metadata": {},
   "outputs": [
    {
     "ename": "NameError",
     "evalue": "name 'pd' is not defined",
     "output_type": "error",
     "traceback": [
      "\u001b[0;31m---------------------------------------------------------------------------\u001b[0m",
      "\u001b[0;31mNameError\u001b[0m                                 Traceback (most recent call last)",
      "File \u001b[1;32mUntitled-1:5\u001b[0m\n\u001b[1;32m      1\u001b[0m \u001b[39m# %% [code] {\"execution\":{\"iopub.status.busy\":\"2025-01-03T19:48:27.416706Z\",\"iopub.execute_input\":\"2025-01-03T19:48:27.417102Z\",\"iopub.status.idle\":\"2025-01-03T19:48:27.932731Z\",\"shell.execute_reply.started\":\"2025-01-03T19:48:27.417072Z\",\"shell.execute_reply\":\"2025-01-03T19:48:27.931721Z\"}}\u001b[39;00m\n\u001b[1;32m      2\u001b[0m \n\u001b[1;32m      3\u001b[0m \u001b[39m# Load and prepare the data\u001b[39;00m\n\u001b[1;32m      4\u001b[0m file_path \u001b[39m=\u001b[39m \u001b[39m'\u001b[39m\u001b[39m~/code/data/kaggle/input/basketball/csv/Games.csv\u001b[39m\u001b[39m'\u001b[39m\n\u001b[0;32m----> 5\u001b[0m game_data \u001b[39m=\u001b[39m pd\u001b[39m.\u001b[39mread_csv(file_path)\n\u001b[1;32m      6\u001b[0m team_data \u001b[39m=\u001b[39m pd\u001b[39m.\u001b[39mread_csv(\u001b[39m'\u001b[39m\u001b[39m~/code/data/kaggle/input/basketball/csv/TeamHistories.csv\u001b[39m\u001b[39m'\u001b[39m)\n\u001b[1;32m      7\u001b[0m \u001b[39m# Reverse the rows of the DataFrame (to get most recent team names)\u001b[39;00m\n",
      "\u001b[0;31mNameError\u001b[0m: name 'pd' is not defined"
     ]
    }
   ],
   "source": [
    "# Load and prepare the data\n",
    "file_path = '~/code/data/kaggle/input/basketball/csv/Games.csv'\n",
    "game_data = pd.read_csv(file_path)\n",
    "team_data = pd.read_csv('~/code/data/kaggle/input/basketball/csv/TeamHistories.csv')\n",
    "# Reverse the rows of the DataFrame (to get most recent team names)\n",
    "team_data_reversed = team_data.iloc[::-1].reset_index(drop=True)\n",
    "\n",
    "team_data = team_data_reversed\n",
    "print(team_data.head())"
   ]
  },
  {
   "cell_type": "markdown",
   "metadata": {},
   "source": [
    "No kernel connected"
   ]
  },
  {
   "cell_type": "markdown",
   "metadata": {},
   "source": [
    "No kernel connected"
   ]
  }
 ],
 "metadata": {
  "kernelspec": {
   "display_name": "Python 3",
   "language": "python",
   "name": "python3"
  },
  "language_info": {
   "name": "python",
   "version": "3.9.6"
  }
 },
 "nbformat": 4,
 "nbformat_minor": 2
}
